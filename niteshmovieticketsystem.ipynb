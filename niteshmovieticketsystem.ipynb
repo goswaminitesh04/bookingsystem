{
 "cells": [
  {
   "cell_type": "code",
   "execution_count": null,
   "id": "d3eb7243-f156-4dc0-a379-f09cd728fd72",
   "metadata": {
    "scrolled": true
   },
   "outputs": [
    {
     "name": "stdout",
     "output_type": "stream",
     "text": [
      "============================== welcome to maharaja group of cinema ==============================\n",
      "        Normal Seat:                                       Recliner Seat:\n",
      "                 300 Rupees                                            500 Rupees\n"
     ]
    },
    {
     "name": "stdin",
     "output_type": "stream",
     "text": [
      "enter your name:  nitesh puri\n",
      "enter your phone number:  9856128762\n"
     ]
    }
   ],
   "source": [
    "total_seat=200\n",
    "normal_seat=150\n",
    "recliner_seat=50\n",
    "normal_seat_price=300\n",
    "recliner_seat_price=500\n",
    "print(\"=\"*30,\"welcome to maharaja group of cinema\",\"=\"*30)\n",
    "\n",
    "\n",
    "print(\"        Normal Seat:     \",\" \"*20,\"            Recliner Seat:\")\n",
    "print(\"                 300 Rupees      \",\" \"*25,\"           500 Rupees\")\n",
    "\n",
    "while True:\n",
    "        amount_normal=0\n",
    "        amount_recliner=0\n",
    "    \n",
    "    \n",
    "        name=input(\"enter your name: \").upper()\n",
    "        phone_number=int(input(\"enter your phone number: \"))\n",
    "        choice=input(\"which type of seat do you want to book ? (normal or recliner)\")\n",
    "    \n",
    "        if choice==\"normal\":\n",
    "            choice=int(input(\"how many seat do you want?\"))\n",
    "            \n",
    "            if choice<=normal_seat:\n",
    "                amount_normal += choice*normal_seat_price\n",
    "                normal_seat -= choice\n",
    "                print(\"=\"*40)\n",
    "                print(amount_normal)\n",
    "                print(\"seats left\", normal_seat)\n",
    "                total=amount_normal\n",
    "                print(\"=\"*40)\n",
    "                \n",
    "                \n",
    "                \n",
    "            else:\n",
    "                print(\"seats not available Go for recliner\")\n",
    "\n",
    "        if choice==\"recliner\":\n",
    "            choice=int(input(\"how many seat do you want? \"))\n",
    "            \n",
    "            if choice<=recliner_seat:\n",
    "                amount_recliner += choice*recliner_seat_price\n",
    "                recliner_seat -= choice\n",
    "                print(\"=\"*40)\n",
    "                print(amount_recliner)\n",
    "                print(\"seat left\",recliner_seat)\n",
    "                total=amount_recliner\n",
    "                print(\"=\"*40)\n",
    "                \n",
    "            \n",
    "            else:\n",
    "               print(\"Housefull\")\n",
    "               print(\"Sorry! We have\", normal_seats, \"seats left in normal\")\n",
    "               continue\n",
    "\n",
    "        combo = input(\"Do you want to add combo of Pop Corn and Cold drink of Rs. 200? (yes/no): \")\n",
    "\n",
    "        if combo == \"yes\":\n",
    "            quantity = int(input(\"How much combo do you want to add? \"))\n",
    "            combo_price = quantity*200\n",
    "            total = total+combo_price\n",
    "            print(\"=\"*40)\n",
    "            print(name, \"Your Total amount is =\",total)\n",
    "            print(\"  Booking is confirmed     \\n    THANK YOU\")\n",
    "            print(\"=\"*40)\n",
    "         \n",
    "        else:\n",
    "            print(\"=\"*40)\n",
    "            print(name, \"Your Total amount is =\",total)\n",
    "            print(\"    Booking is Confiremd \\n    THANK YOU    \")\n",
    "            print(\"=\"*40)\n",
    "\n",
    "       \n",
    "        print(\"Normal seats remaining: \", normal_seat) \n",
    "        print(\"Recliner seats remaining: \", recliner_seat)\n",
    "        repeat = input(\"Go to next person? (ok/no): \")\n",
    "        if repeat == \"ok\":\n",
    "            continue\n",
    "              \n",
    "        else:\n",
    "            print(\"today booking is full\")\n",
    "            break"
   ]
  },
  {
   "cell_type": "code",
   "execution_count": null,
   "id": "e522e7aa-5b33-45ed-b683-c0c0002c307a",
   "metadata": {},
   "outputs": [],
   "source": []
  }
 ],
 "metadata": {
  "kernelspec": {
   "display_name": "Python 3 (ipykernel)",
   "language": "python",
   "name": "python3"
  },
  "language_info": {
   "codemirror_mode": {
    "name": "ipython",
    "version": 3
   },
   "file_extension": ".py",
   "mimetype": "text/x-python",
   "name": "python",
   "nbconvert_exporter": "python",
   "pygments_lexer": "ipython3",
   "version": "3.11.4"
  }
 },
 "nbformat": 4,
 "nbformat_minor": 5
}
