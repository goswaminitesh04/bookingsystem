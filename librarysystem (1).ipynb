{
 "cells": [
  {
   "cell_type": "code",
   "execution_count": 2,
   "id": "d458472c-d1a2-4ca3-8eed-1f3b9600c257",
   "metadata": {
    "jp-MarkdownHeadingCollapsed": true
   },
   "outputs": [
    {
     "name": "stdout",
     "output_type": "stream",
     "text": [
      "WELCOME TO MAHARAJA COLLEGE OF LIBRARY\n",
      "========================================\n",
      "******************************\n",
      "Enter Your login details:\n",
      "******************************\n"
     ]
    },
    {
     "name": "stdin",
     "output_type": "stream",
     "text": [
      "Enter Username :  nitesh\n",
      "Enter Password :  nitesh121\n"
     ]
    },
    {
     "name": "stdout",
     "output_type": "stream",
     "text": [
      "welcome to library\n"
     ]
    },
    {
     "name": "stdin",
     "output_type": "stream",
     "text": [
      " enter your choice\n",
      "                                 press 1 to add book\n",
      "                                 press 2 to borrow book\n",
      "                                 press 3 to return book\n",
      "                                 press 4 to available  book or borrowed book \n",
      "                                 press 5 logout :\n",
      "                                 \n",
      "                              \n",
      "                                        1\n"
     ]
    },
    {
     "name": "stdout",
     "output_type": "stream",
     "text": [
      "======================================================================\n",
      "{'maths': 15, 'science': 20, 'socialscience': 10, 'english': 25}\n",
      "======================================================================\n"
     ]
    },
    {
     "name": "stdin",
     "output_type": "stream",
     "text": [
      "enter book name you want to add:  science\n",
      "enter quantity:  5\n"
     ]
    },
    {
     "name": "stdout",
     "output_type": "stream",
     "text": [
      "----------------------------------------------------------------------\n",
      "{'maths': 15, 'science': 25, 'socialscience': 10, 'english': 25}\n",
      "----------------------------------------------------------------------\n"
     ]
    },
    {
     "name": "stdin",
     "output_type": "stream",
     "text": [
      " enter your choice\n",
      "                                 press 1 to add book\n",
      "                                 press 2 to borrow book\n",
      "                                 press 3 to return book\n",
      "                                 press 4 to available  book or borrowed book \n",
      "                                 press 5 logout :\n",
      "                                 \n",
      "                              \n",
      "                                        2\n"
     ]
    },
    {
     "name": "stdout",
     "output_type": "stream",
     "text": [
      "======================================================================\n",
      "{'maths': 15, 'science': 25, 'socialscience': 10, 'english': 25}\n",
      "======================================================================\n"
     ]
    },
    {
     "name": "stdin",
     "output_type": "stream",
     "text": [
      "Enter name of book you want to borrow:  maths\n",
      "enter quantity:  4\n"
     ]
    },
    {
     "name": "stdout",
     "output_type": "stream",
     "text": [
      "your book is borrowed: \n",
      "----------------------------------------------------------------------\n",
      "{'maths': 11, 'science': 25, 'socialscience': 10, 'english': 25}\n",
      "----------------------------------------------------------------------\n"
     ]
    },
    {
     "name": "stdin",
     "output_type": "stream",
     "text": [
      " enter your choice\n",
      "                                 press 1 to add book\n",
      "                                 press 2 to borrow book\n",
      "                                 press 3 to return book\n",
      "                                 press 4 to available  book or borrowed book \n",
      "                                 press 5 logout :\n",
      "                                 \n",
      "                              \n",
      "                                        4\n"
     ]
    },
    {
     "name": "stdout",
     "output_type": "stream",
     "text": [
      "Details of All Books and borrwed books\n",
      "----------------------------------------------------------------------\n",
      "{'maths': 11, 'science': 25, 'socialscience': 10, 'english': 25}\n",
      "--------------------\n",
      "nitesh you borrwed maths book and quantity of book is 4 \n",
      "--------------------\n",
      "----------------------------------------------------------------------\n"
     ]
    },
    {
     "name": "stdin",
     "output_type": "stream",
     "text": [
      " enter your choice\n",
      "                                 press 1 to add book\n",
      "                                 press 2 to borrow book\n",
      "                                 press 3 to return book\n",
      "                                 press 4 to available  book or borrowed book \n",
      "                                 press 5 logout :\n",
      "                                 \n",
      "                              \n",
      "                                        5\n"
     ]
    },
    {
     "name": "stdout",
     "output_type": "stream",
     "text": [
      "********************************************************************************\n",
      "nitesh   You have been logout \n",
      "                               Have a good day \n",
      "                                                     Thanks for visitng.....\n",
      "********************************************************************************\n"
     ]
    }
   ],
   "source": [
    "print(\"WELCOME TO MAHARAJA COLLEGE OF LIBRARY\")\n",
    "print(\"=\"*40)\n",
    "while True:\n",
    "    username=\"nitesh\"\n",
    "    password=\"nitesh121\"\n",
    "\n",
    "    print(\"*\"*30)\n",
    "    print(\"Enter Your login details:\")\n",
    "    print(\"*\"*30)\n",
    "\n",
    "    \n",
    "    u = input (\"Enter Username : \")\n",
    "    p = input(\"Enter Password : \")\n",
    "\n",
    "    if  u== username and p == password:\n",
    "        print(\"welcome to library\")\n",
    "\n",
    "    else:\n",
    "        print(\"login failed\")\n",
    "        print(\"enter correct username or password:\")  \n",
    "        continue\n",
    "    \n",
    "    Books={\"maths\":15, \"science\":20, \"socialscience\":10,\"english\":25}\n",
    "    while True:\n",
    "            choice=int(input(''' enter your choice\n",
    "                                 press 1 to add book\n",
    "                                 press 2 to borrow book\n",
    "                                 press 3 to return book\n",
    "                                 press 4 to available  book or borrowed book \n",
    "                                 press 5 logout :\n",
    "                                 \n",
    "                              \n",
    "                                       '''))\n",
    "            if choice==1:\n",
    "                   print(\"=\"*70)\n",
    "                   print(Books)\n",
    "                   print(\"=\"*70)\n",
    "                   book=input(\"enter book name you want to add: \").lower()\n",
    "                   quentity=int(input(\"enter quantity: \"))\n",
    "                   Books[book]+=quentity\n",
    "                   print(\"-\"*70)\n",
    "                   print(Books)\n",
    "                   print(\"-\"*70)\n",
    "\n",
    "\n",
    "            elif choice==2:\n",
    "                  print(\"=\"*70)\n",
    "                  print(Books)\n",
    "                  print(\"=\"*70)\n",
    "                  book=input(\"Enter name of book you want to borrow: \").lower()\n",
    "                  quantity=int(input(\"enter quantity: \"))\n",
    "                  \n",
    "                  Books[book]-=quantity\n",
    "                  if Books[book] >= quantity:\n",
    "                          print(\"your book is borrowed: \")\n",
    "                  else:\n",
    "                    print(\"books are not available\") \n",
    "                  print(\"-\"*70)    \n",
    "                  print(Books)\n",
    "                  print(\"-\"*70)\n",
    "\n",
    "            elif choice==3:\n",
    "                  print(\"=\"*70)\n",
    "                  print(Books)\n",
    "                  print(\"=\"*70)\n",
    "                  book=input(\"enter book name you want to return: \").lower()\n",
    "                  quantity=int(input(\"enter the quantity: \"))\n",
    "                  Books[book]+=quantity\n",
    "                  \n",
    "                  print(\"-\"*70)\n",
    "                  print(Books)\n",
    "                  print(\"-\"*70)\n",
    "         \n",
    "                    \n",
    "            elif choice==4:\n",
    "                  print(\"Details of All Books and borrwed books\")\n",
    "                  print(\"-\"*70)\n",
    "                  print(Books)\n",
    "                  print(\"-\"*20)\n",
    "                  print(f\"{username} you borrwed {book} book and quantity of book is {quantity} \")\n",
    "                  print(\"-\"*20)\n",
    "                  print(\"-\"*70)\n",
    "                 \n",
    "\n",
    "            elif choice==5:\n",
    "                  print(\"*\"*80)\n",
    "\n",
    "                  print(username,'''  You have been logout \n",
    "                               Have a good day \n",
    "                                                     Thanks for visitng.....''')\n",
    "                  print(\"*\"*80)\n",
    "                  \n",
    "                     \n",
    "                  break\n",
    "    if choice==5:\n",
    "        break       "
   ]
  },
  {
   "cell_type": "code",
   "execution_count": null,
   "id": "d46f321e-7ccf-4fe6-abe3-1d4124c882ab",
   "metadata": {},
   "outputs": [],
   "source": []
  }
 ],
 "metadata": {
  "kernelspec": {
   "display_name": "Python 3 (ipykernel)",
   "language": "python",
   "name": "python3"
  },
  "language_info": {
   "codemirror_mode": {
    "name": "ipython",
    "version": 3
   },
   "file_extension": ".py",
   "mimetype": "text/x-python",
   "name": "python",
   "nbconvert_exporter": "python",
   "pygments_lexer": "ipython3",
   "version": "3.11.4"
  }
 },
 "nbformat": 4,
 "nbformat_minor": 5
}
